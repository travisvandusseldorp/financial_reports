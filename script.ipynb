{
 "cells": [
  {
   "cell_type": "code",
   "execution_count": 133,
   "metadata": {},
   "outputs": [],
   "source": [
    "import pandas as pd\n",
    "import numpy as np\n",
    "\n",
    "pd.set_option('display.max_columns', None)  \n",
    "np.set_printoptions(suppress=True)"
   ]
  },
  {
   "cell_type": "code",
   "execution_count": 160,
   "metadata": {},
   "outputs": [],
   "source": [
    "sub = pd.read_csv(\"sub.txt\", sep='\\t', parse_dates=['accepted']) \n",
    "pre = pd.read_csv(\"pre.txt\", sep='\\t') \n",
    "num = pd.read_csv(\"num.txt\", sep='\\t', parse_dates=['ddate']) \n",
    "tag = pd.read_csv(\"tag.txt\", sep='\\t') "
   ]
  },
  {
   "cell_type": "code",
   "execution_count": 541,
   "metadata": {},
   "outputs": [],
   "source": [
    "company = sub.iloc[55]"
   ]
  },
  {
   "cell_type": "code",
   "execution_count": 542,
   "metadata": {},
   "outputs": [],
   "source": [
    "adsh = company['adsh']"
   ]
  },
  {
   "cell_type": "code",
   "execution_count": null,
   "metadata": {},
   "outputs": [],
   "source": []
  },
  {
   "cell_type": "code",
   "execution_count": 543,
   "metadata": {},
   "outputs": [],
   "source": [
    "line_items = pre[pre['adsh'] == adsh]"
   ]
  },
  {
   "cell_type": "code",
   "execution_count": null,
   "metadata": {},
   "outputs": [],
   "source": []
  },
  {
   "cell_type": "code",
   "execution_count": 544,
   "metadata": {},
   "outputs": [],
   "source": [
    "values = num[num['adsh'] == adsh]"
   ]
  },
  {
   "cell_type": "code",
   "execution_count": null,
   "metadata": {},
   "outputs": [],
   "source": []
  },
  {
   "cell_type": "code",
   "execution_count": 545,
   "metadata": {},
   "outputs": [
    {
     "data": {
      "text/plain": [
       "<pandas.core.groupby.groupby.DataFrameGroupBy object at 0x131d1abe0>"
      ]
     },
     "execution_count": 545,
     "metadata": {},
     "output_type": "execute_result"
    }
   ],
   "source": [
    "values.groupby('ddate')"
   ]
  },
  {
   "cell_type": "code",
   "execution_count": 546,
   "metadata": {},
   "outputs": [],
   "source": [
    "l = list()"
   ]
  },
  {
   "cell_type": "code",
   "execution_count": 547,
   "metadata": {},
   "outputs": [],
   "source": [
    "l = [x for _, x in values.groupby('ddate')]"
   ]
  },
  {
   "cell_type": "code",
   "execution_count": 548,
   "metadata": {},
   "outputs": [],
   "source": [
    "new_l = list()\n",
    "for x in l:\n",
    "    if len(x) < 20:\n",
    "        new_l.append(x)"
   ]
  },
  {
   "cell_type": "code",
   "execution_count": null,
   "metadata": {},
   "outputs": [],
   "source": []
  },
  {
   "cell_type": "code",
   "execution_count": 549,
   "metadata": {},
   "outputs": [],
   "source": [
    "income_stmt = line_items[line_items['stmt'] == 'IS']"
   ]
  },
  {
   "cell_type": "code",
   "execution_count": 550,
   "metadata": {},
   "outputs": [],
   "source": [
    "income_stmt = income_stmt.set_index('tag')"
   ]
  },
  {
   "cell_type": "code",
   "execution_count": null,
   "metadata": {},
   "outputs": [],
   "source": []
  },
  {
   "cell_type": "code",
   "execution_count": 551,
   "metadata": {},
   "outputs": [
    {
     "name": "stderr",
     "output_type": "stream",
     "text": [
      "/anaconda3/lib/python3.6/site-packages/ipykernel_launcher.py:4: FutureWarning: Sorting because non-concatenation axis is not aligned. A future version\n",
      "of pandas will change to not sort by default.\n",
      "\n",
      "To accept the future behavior, pass 'sort=False'.\n",
      "\n",
      "To retain the current behavior and silence the warning, pass 'sort=True'.\n",
      "\n",
      "  after removing the cwd from sys.path.\n"
     ]
    }
   ],
   "source": [
    "d = list()\n",
    "for filing in new_l:\n",
    "    filing = filing.set_index('tag')\n",
    "    d.append(pd.concat([filing, income_stmt], axis='columns'))"
   ]
  },
  {
   "cell_type": "code",
   "execution_count": null,
   "metadata": {},
   "outputs": [],
   "source": []
  },
  {
   "cell_type": "code",
   "execution_count": 552,
   "metadata": {},
   "outputs": [],
   "source": [
    "e = list()\n",
    "\n",
    "for i in d:\n",
    "    tmp = i\n",
    "    tmp.set_index('plabel')\n",
    "    tmp = tmp[['ddate','qtrs','value','line','negating']]\n",
    "    tmp = tmp.sort_values('line').dropna() \n",
    "       \n",
    "    e.append(tmp)\n",
    "    \n",
    "f = list()\n",
    "for i in e:\n",
    "    if len(i) > 0:\n",
    "        f.append(i)"
   ]
  },
  {
   "cell_type": "code",
   "execution_count": 553,
   "metadata": {},
   "outputs": [],
   "source": [
    "g = list()\n",
    "for i in f:\n",
    "    for item in i.index:\n",
    "        #if str(item) != \"EarningsPerShareBasic\" and str(item) != \"EarningsPerShareDiluted\":\n",
    "        #    i['value'] = i['value'].astype('int')\n",
    "        #else:\n",
    "        #    i['value'] = i['value'].astype('float')\n",
    "        if i.at[item,'negating'] == 1.0:\n",
    "            i.at[item,'value'] = i.at[item, 'value'] * -1\n",
    "        else:\n",
    "            v = i.at[item, 'value']\n",
    "    g.append(i[['value','qtrs']])"
   ]
  },
  {
   "cell_type": "code",
   "execution_count": 554,
   "metadata": {},
   "outputs": [
    {
     "data": {
      "text/plain": [
       "[                                                        value  qtrs\n",
       " InterestAndDividendIncomeOperating               2.724010e+08   1.0\n",
       " InterestIncomeExpenseNet                         2.399270e+08   1.0\n",
       " ProvisionForLoanAndLeaseLosses                   8.674000e+06   1.0\n",
       " IncomeTaxExpenseBenefit                          3.384700e+07   1.0\n",
       " ProfitLoss                                       7.185700e+07   1.0\n",
       " NetIncomeLossAvailableToCommonStockholdersBasic  6.929800e+07   1.0\n",
       " EarningsPerShareBasic                            5.700000e-01   1.0\n",
       " EarningsPerShareDiluted                          5.600000e-01   1.0,\n",
       "                                                        value  qtrs\n",
       " InterestAndDividendIncomeOperating               285510000.0   1.0\n",
       " InterestIncomeExpenseNet                         251097000.0   1.0\n",
       " ProvisionForLoanAndLeaseLosses                    10260000.0   1.0\n",
       " IncomeTaxExpenseBenefit                           41788000.0   1.0\n",
       " ProfitLoss                                        76003000.0   1.0\n",
       " NetIncomeLossAvailableToCommonStockholdersBasic   73444000.0   1.0\n",
       " EarningsPerShareBasic                                    0.6   1.0\n",
       " EarningsPerShareDiluted                                  0.6   1.0,\n",
       "                                                         value  qtrs\n",
       " InterestAndDividendIncomeOperating               2.976520e+08   1.0\n",
       " InterestIncomeExpenseNet                         2.625720e+08   1.0\n",
       " ProvisionForLoanAndLeaseLosses                   3.968600e+07   1.0\n",
       " IncomeTaxExpenseBenefit                          5.466800e+07   1.0\n",
       " ProfitLoss                                       9.800700e+07   1.0\n",
       " NetIncomeLossAvailableToCommonStockholdersBasic  9.544800e+07   1.0\n",
       " EarningsPerShareBasic                            7.900000e-01   1.0\n",
       " EarningsPerShareDiluted                          7.800000e-01   1.0,\n",
       "                                                         value  qtrs\n",
       " InterestAndDividendIncomeOperating               3.131340e+08   1.0\n",
       " InterestIncomeExpenseNet                         2.742840e+08   1.0\n",
       " ProvisionForLoanAndLeaseLosses                   1.277600e+07   1.0\n",
       " IncomeTaxExpenseBenefit                          3.020900e+07   1.0\n",
       " ProfitLoss                                       1.031660e+08   1.0\n",
       " NetIncomeLossAvailableToCommonStockholdersBasic  1.006070e+08   1.0\n",
       " EarningsPerShareBasic                            8.500000e-01   1.0\n",
       " EarningsPerShareDiluted                          8.400000e-01   1.0,\n",
       "                                                         value  qtrs\n",
       " InterestAndDividendIncomeOperating               3.298340e+08   1.0\n",
       " InterestIncomeExpenseNet                         2.845770e+08   1.0\n",
       " ProvisionForLoanAndLeaseLosses                   1.179000e+07   1.0\n",
       " IncomeTaxExpenseBenefit                          3.093600e+07   1.0\n",
       " ProfitLoss                                       1.111810e+08   1.0\n",
       " NetIncomeLossAvailableToCommonStockholdersBasic  1.086220e+08   1.0\n",
       " EarningsPerShareBasic                            9.200000e-01   1.0\n",
       " EarningsPerShareDiluted                          9.100000e-01   1.0,\n",
       "                                                         value  qtrs\n",
       " InterestAndDividendIncomeOperating               3.439420e+08   1.0\n",
       " InterestIncomeExpenseNet                         2.916190e+08   1.0\n",
       " ProvisionForLoanAndLeaseLosses                   1.498200e+07   1.0\n",
       " IncomeTaxExpenseBenefit                          1.894900e+07   1.0\n",
       " ProfitLoss                                       1.090590e+08   1.0\n",
       " NetIncomeLossAvailableToCommonStockholdersBasic  9.933000e+07   1.0\n",
       " EarningsPerShareBasic                            8.500000e-01   1.0\n",
       " EarningsPerShareDiluted                          8.400000e-01   1.0]"
      ]
     },
     "execution_count": 554,
     "metadata": {},
     "output_type": "execute_result"
    }
   ],
   "source": [
    "g"
   ]
  },
  {
   "cell_type": "code",
   "execution_count": null,
   "metadata": {},
   "outputs": [],
   "source": [
    "\n"
   ]
  },
  {
   "cell_type": "code",
   "execution_count": null,
   "metadata": {},
   "outputs": [],
   "source": []
  },
  {
   "cell_type": "code",
   "execution_count": 555,
   "metadata": {},
   "outputs": [],
   "source": [
    "h = pd.concat(g, axis='columns', keys=['3-31-2017', '6-30-2017', '9-30-2017', '3-31-2018', '6-30-2018', '9-30-2018'])"
   ]
  },
  {
   "cell_type": "code",
   "execution_count": 556,
   "metadata": {},
   "outputs": [
    {
     "data": {
      "text/html": [
       "<div>\n",
       "<style scoped>\n",
       "    .dataframe tbody tr th:only-of-type {\n",
       "        vertical-align: middle;\n",
       "    }\n",
       "\n",
       "    .dataframe tbody tr th {\n",
       "        vertical-align: top;\n",
       "    }\n",
       "\n",
       "    .dataframe thead tr th {\n",
       "        text-align: left;\n",
       "    }\n",
       "</style>\n",
       "<table border=\"1\" class=\"dataframe\">\n",
       "  <thead>\n",
       "    <tr>\n",
       "      <th></th>\n",
       "      <th colspan=\"2\" halign=\"left\">3-31-2017</th>\n",
       "      <th colspan=\"2\" halign=\"left\">6-30-2017</th>\n",
       "      <th colspan=\"2\" halign=\"left\">9-30-2017</th>\n",
       "      <th colspan=\"2\" halign=\"left\">3-31-2018</th>\n",
       "      <th colspan=\"2\" halign=\"left\">6-30-2018</th>\n",
       "      <th colspan=\"2\" halign=\"left\">9-30-2018</th>\n",
       "    </tr>\n",
       "    <tr>\n",
       "      <th></th>\n",
       "      <th>value</th>\n",
       "      <th>qtrs</th>\n",
       "      <th>value</th>\n",
       "      <th>qtrs</th>\n",
       "      <th>value</th>\n",
       "      <th>qtrs</th>\n",
       "      <th>value</th>\n",
       "      <th>qtrs</th>\n",
       "      <th>value</th>\n",
       "      <th>qtrs</th>\n",
       "      <th>value</th>\n",
       "      <th>qtrs</th>\n",
       "    </tr>\n",
       "  </thead>\n",
       "  <tbody>\n",
       "    <tr>\n",
       "      <th>InterestAndDividendIncomeOperating</th>\n",
       "      <td>2.724010e+08</td>\n",
       "      <td>1.0</td>\n",
       "      <td>285510000.0</td>\n",
       "      <td>1.0</td>\n",
       "      <td>2.976520e+08</td>\n",
       "      <td>1.0</td>\n",
       "      <td>3.131340e+08</td>\n",
       "      <td>1.0</td>\n",
       "      <td>3.298340e+08</td>\n",
       "      <td>1.0</td>\n",
       "      <td>3.439420e+08</td>\n",
       "      <td>1.0</td>\n",
       "    </tr>\n",
       "    <tr>\n",
       "      <th>InterestIncomeExpenseNet</th>\n",
       "      <td>2.399270e+08</td>\n",
       "      <td>1.0</td>\n",
       "      <td>251097000.0</td>\n",
       "      <td>1.0</td>\n",
       "      <td>2.625720e+08</td>\n",
       "      <td>1.0</td>\n",
       "      <td>2.742840e+08</td>\n",
       "      <td>1.0</td>\n",
       "      <td>2.845770e+08</td>\n",
       "      <td>1.0</td>\n",
       "      <td>2.916190e+08</td>\n",
       "      <td>1.0</td>\n",
       "    </tr>\n",
       "    <tr>\n",
       "      <th>ProvisionForLoanAndLeaseLosses</th>\n",
       "      <td>8.674000e+06</td>\n",
       "      <td>1.0</td>\n",
       "      <td>10260000.0</td>\n",
       "      <td>1.0</td>\n",
       "      <td>3.968600e+07</td>\n",
       "      <td>1.0</td>\n",
       "      <td>1.277600e+07</td>\n",
       "      <td>1.0</td>\n",
       "      <td>1.179000e+07</td>\n",
       "      <td>1.0</td>\n",
       "      <td>1.498200e+07</td>\n",
       "      <td>1.0</td>\n",
       "    </tr>\n",
       "    <tr>\n",
       "      <th>IncomeTaxExpenseBenefit</th>\n",
       "      <td>3.384700e+07</td>\n",
       "      <td>1.0</td>\n",
       "      <td>41788000.0</td>\n",
       "      <td>1.0</td>\n",
       "      <td>5.466800e+07</td>\n",
       "      <td>1.0</td>\n",
       "      <td>3.020900e+07</td>\n",
       "      <td>1.0</td>\n",
       "      <td>3.093600e+07</td>\n",
       "      <td>1.0</td>\n",
       "      <td>1.894900e+07</td>\n",
       "      <td>1.0</td>\n",
       "    </tr>\n",
       "    <tr>\n",
       "      <th>ProfitLoss</th>\n",
       "      <td>7.185700e+07</td>\n",
       "      <td>1.0</td>\n",
       "      <td>76003000.0</td>\n",
       "      <td>1.0</td>\n",
       "      <td>9.800700e+07</td>\n",
       "      <td>1.0</td>\n",
       "      <td>1.031660e+08</td>\n",
       "      <td>1.0</td>\n",
       "      <td>1.111810e+08</td>\n",
       "      <td>1.0</td>\n",
       "      <td>1.090590e+08</td>\n",
       "      <td>1.0</td>\n",
       "    </tr>\n",
       "    <tr>\n",
       "      <th>NetIncomeLossAvailableToCommonStockholdersBasic</th>\n",
       "      <td>6.929800e+07</td>\n",
       "      <td>1.0</td>\n",
       "      <td>73444000.0</td>\n",
       "      <td>1.0</td>\n",
       "      <td>9.544800e+07</td>\n",
       "      <td>1.0</td>\n",
       "      <td>1.006070e+08</td>\n",
       "      <td>1.0</td>\n",
       "      <td>1.086220e+08</td>\n",
       "      <td>1.0</td>\n",
       "      <td>9.933000e+07</td>\n",
       "      <td>1.0</td>\n",
       "    </tr>\n",
       "    <tr>\n",
       "      <th>EarningsPerShareBasic</th>\n",
       "      <td>5.700000e-01</td>\n",
       "      <td>1.0</td>\n",
       "      <td>0.6</td>\n",
       "      <td>1.0</td>\n",
       "      <td>7.900000e-01</td>\n",
       "      <td>1.0</td>\n",
       "      <td>8.500000e-01</td>\n",
       "      <td>1.0</td>\n",
       "      <td>9.200000e-01</td>\n",
       "      <td>1.0</td>\n",
       "      <td>8.500000e-01</td>\n",
       "      <td>1.0</td>\n",
       "    </tr>\n",
       "    <tr>\n",
       "      <th>EarningsPerShareDiluted</th>\n",
       "      <td>5.600000e-01</td>\n",
       "      <td>1.0</td>\n",
       "      <td>0.6</td>\n",
       "      <td>1.0</td>\n",
       "      <td>7.800000e-01</td>\n",
       "      <td>1.0</td>\n",
       "      <td>8.400000e-01</td>\n",
       "      <td>1.0</td>\n",
       "      <td>9.100000e-01</td>\n",
       "      <td>1.0</td>\n",
       "      <td>8.400000e-01</td>\n",
       "      <td>1.0</td>\n",
       "    </tr>\n",
       "  </tbody>\n",
       "</table>\n",
       "</div>"
      ],
      "text/plain": [
       "                                                    3-31-2017         6-30-2017          9-30-2017          3-31-2018          6-30-2018          9-30-2018     \n",
       "                                                        value qtrs        value qtrs         value qtrs         value qtrs         value qtrs         value qtrs\n",
       "InterestAndDividendIncomeOperating               2.724010e+08  1.0  285510000.0  1.0  2.976520e+08  1.0  3.131340e+08  1.0  3.298340e+08  1.0  3.439420e+08  1.0\n",
       "InterestIncomeExpenseNet                         2.399270e+08  1.0  251097000.0  1.0  2.625720e+08  1.0  2.742840e+08  1.0  2.845770e+08  1.0  2.916190e+08  1.0\n",
       "ProvisionForLoanAndLeaseLosses                   8.674000e+06  1.0   10260000.0  1.0  3.968600e+07  1.0  1.277600e+07  1.0  1.179000e+07  1.0  1.498200e+07  1.0\n",
       "IncomeTaxExpenseBenefit                          3.384700e+07  1.0   41788000.0  1.0  5.466800e+07  1.0  3.020900e+07  1.0  3.093600e+07  1.0  1.894900e+07  1.0\n",
       "ProfitLoss                                       7.185700e+07  1.0   76003000.0  1.0  9.800700e+07  1.0  1.031660e+08  1.0  1.111810e+08  1.0  1.090590e+08  1.0\n",
       "NetIncomeLossAvailableToCommonStockholdersBasic  6.929800e+07  1.0   73444000.0  1.0  9.544800e+07  1.0  1.006070e+08  1.0  1.086220e+08  1.0  9.933000e+07  1.0\n",
       "EarningsPerShareBasic                            5.700000e-01  1.0          0.6  1.0  7.900000e-01  1.0  8.500000e-01  1.0  9.200000e-01  1.0  8.500000e-01  1.0\n",
       "EarningsPerShareDiluted                          5.600000e-01  1.0          0.6  1.0  7.800000e-01  1.0  8.400000e-01  1.0  9.100000e-01  1.0  8.400000e-01  1.0"
      ]
     },
     "execution_count": 556,
     "metadata": {},
     "output_type": "execute_result"
    }
   ],
   "source": [
    "h"
   ]
  },
  {
   "cell_type": "code",
   "execution_count": null,
   "metadata": {},
   "outputs": [],
   "source": []
  },
  {
   "cell_type": "code",
   "execution_count": null,
   "metadata": {},
   "outputs": [],
   "source": []
  },
  {
   "cell_type": "code",
   "execution_count": null,
   "metadata": {},
   "outputs": [],
   "source": []
  }
 ],
 "metadata": {
  "kernelspec": {
   "display_name": "Python 3",
   "language": "python",
   "name": "python3"
  },
  "language_info": {
   "codemirror_mode": {
    "name": "ipython",
    "version": 3
   },
   "file_extension": ".py",
   "mimetype": "text/x-python",
   "name": "python",
   "nbconvert_exporter": "python",
   "pygments_lexer": "ipython3",
   "version": "3.6.7"
  }
 },
 "nbformat": 4,
 "nbformat_minor": 2
}
